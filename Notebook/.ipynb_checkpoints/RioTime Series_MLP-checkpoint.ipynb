{
 "cells": [
  {
   "cell_type": "markdown",
   "id": "af4e501e",
   "metadata": {
    "heading_collapsed": true
   },
   "source": [
    "# 0.0 - Imports"
   ]
  },
  {
   "cell_type": "code",
   "execution_count": 1,
   "id": "961cfa91",
   "metadata": {
    "ExecuteTime": {
     "end_time": "2024-06-21T19:54:25.696316Z",
     "start_time": "2024-06-21T19:54:25.689482Z"
    },
    "hidden": true
   },
   "outputs": [],
   "source": [
    "# import math\n",
    "# import pickle\n",
    "# import optuna\n",
    "# import itertools\n",
    "\n",
    "# import numpy                                 as np\n",
    "# import pandas                                as pd\n",
    "# import seaborn                               as sns\n",
    "# import matplotlib.pyplot                     as plt\n",
    "# import plotly.express                        as px\n",
    "     \n",
    "# from datetime                                import datetime\n",
    "# from prophet                                 import Prophet\n",
    "# from pandas.api.types                        import CategoricalDtype\n",
    "# from prophet                                 import Prophet\n",
    "# from prophet.plot                            import plot_plotly, plot_components_plotly, plot_cross_validation_metric\n",
    "# from sklearn.metrics                         import mean_squared_error, mean_absolute_error\n",
    "# from sklearn.impute                          import SimpleImputer\n",
    "# from prophet.diagnostics                     import cross_validation, performance_metrics\n",
    "# from sklearn.preprocessing                   import MinMaxScaler\n",
    "# from xgboost                                 import XGBRegressor, plot_importance\n",
    "# from sklearn.metrics                         import make_scorer, mean_squared_error, mean_absolute_error\n",
    "# from sklearn.model_selection                 import cross_validate\n",
    "# from tensorflow.keras.preprocessing.sequence import TimeseriesGenerator\n",
    "# from keras.models                            import Sequential\n",
    "# from keras.layers                            import GRU, Dense, Dropout\n",
    "# from tensorflow.keras.callbacks              import EarlyStopping\n",
    "\n",
    "\n",
    "\n"
   ]
  },
  {
   "cell_type": "code",
   "execution_count": 2,
   "id": "d46a4475",
   "metadata": {
    "ExecuteTime": {
     "end_time": "2024-06-21T19:54:38.443726Z",
     "start_time": "2024-06-21T19:54:25.701015Z"
    },
    "hidden": true
   },
   "outputs": [],
   "source": [
    "import warnings\n",
    "\n",
    "import numpy                    as np\n",
    "import pandas                   as pd\n",
    "import seaborn                  as sns\n",
    "import matplotlib.pyplot        as plt\n",
    "\n",
    "from IPython.display            import display, HTML\n",
    "from datetime                   import datetime\n",
    "from sklearn.impute             import SimpleImputer\n",
    "from sklearn.preprocessing      import MinMaxScaler\n",
    "from tensorflow.keras.models    import Sequential\n",
    "from tensorflow.keras.layers    import GRU, Dense, Dropout\n",
    "from tensorflow.keras.callbacks import EarlyStopping\n",
    "from sklearn.metrics            import mean_squared_error, mean_absolute_error\n",
    "from pandas.plotting            import register_matplotlib_converters\n",
    "from statsmodels.tsa.seasonal   import seasonal_decompose"
   ]
  },
  {
   "cell_type": "markdown",
   "id": "e7d75ff3",
   "metadata": {
    "heading_collapsed": true
   },
   "source": [
    "# 0.1 - Helper Functions"
   ]
  },
  {
   "cell_type": "code",
   "execution_count": 3,
   "id": "c4252480",
   "metadata": {
    "ExecuteTime": {
     "end_time": "2024-06-21T19:54:38.472408Z",
     "start_time": "2024-06-21T19:54:38.443726Z"
    },
    "hidden": true
   },
   "outputs": [
    {
     "data": {
      "text/html": [
       "<style>.container { width:100% !important; }</style>"
      ],
      "text/plain": [
       "<IPython.core.display.HTML object>"
      ]
     },
     "metadata": {},
     "output_type": "display_data"
    },
    {
     "data": {
      "text/html": [
       "\n",
       "<style>\n",
       ".output {\n",
       "    display: block;\n",
       "    width: 100% !important;\n",
       "    max-height: 1000px !important;\n",
       "    overflow-y: auto;\n",
       "}\n",
       ".output_area {\n",
       "    width: 100% !important;\n",
       "    max-height: 1000px !important;\n",
       "}\n",
       "</style>\n"
      ],
      "text/plain": [
       "<IPython.core.display.HTML object>"
      ]
     },
     "metadata": {},
     "output_type": "display_data"
    }
   ],
   "source": [
    "# Set the width of the container\n",
    "display(HTML(\"<style>.container { width:100% !important; }</style>\"))\n",
    "\n",
    "# Adjust the output area for better display without causing overlap\n",
    "display(HTML(\"\"\"\n",
    "<style>\n",
    ".output {\n",
    "    display: block;\n",
    "    width: 100% !important;\n",
    "    max-height: 1000px !important;\n",
    "    overflow-y: auto;\n",
    "}\n",
    ".output_area {\n",
    "    width: 100% !important;\n",
    "    max-height: 1000px !important;\n",
    "}\n",
    "</style>\n",
    "\"\"\"))\n",
    "\n",
    "\n",
    "warnings.filterwarnings(\"ignore\")\n",
    "\n",
    "plt.style.use('ggplot')\n",
    "plt.style.use('fivethirtyeight')\n",
    "\n",
    "\n",
    "def mean_absolute_percentage_error(y_true, y_pred):\n",
    "    \"\"\"Calculates MAPE given y_true and y_pred\"\"\"\n",
    "    y_true, y_pred = np.array(y_true), np.array(y_pred)\n",
    "    return np.mean(np.abs((y_true - y_pred) / y_true)) * 100\n",
    "\n",
    "\n",
    "weekday_map = {0: 'Monday', 1: 'Tuesday', 2: 'Wednesday', 3: 'Thursday', 4: 'Friday', 5: 'Saturday', 6: 'Sunday'}\n",
    "\n",
    "def create_features(df):\n",
    "    df = df.copy()    \n",
    "    df['hour'] = df['Data_Hora'].dt.hour.astype('int64')\n",
    "    df['dayofweek'] = df['Data_Hora'].dt.dayofweek.astype('int64')\n",
    "    df['quarter'] = df['Data_Hora'].dt.quarter.astype('int64')\n",
    "    df['month'] = df['Data_Hora'].dt.month.astype('int64')\n",
    "    df['year'] = df['Data_Hora'].dt.year.astype('int64')\n",
    "    df['dayofyear'] = df['Data_Hora'].dt.dayofyear.astype('int64')\n",
    "    df['dayofmonth'] = df['Data_Hora'].dt.day.astype('int64')\n",
    "    df['weekofyear'] = df['Data_Hora'].dt.isocalendar().week.astype('int64')\n",
    "\n",
    "    df['season'] = 'Winter'  # Default to Winter\n",
    "    df.loc[(df['Data_Hora'] >= df.apply(lambda row: pd.Timestamp(year=row['year'], month=3, day=20), axis=1)) & (df['Data_Hora'] < df.apply(lambda row: pd.Timestamp(year=row['year'], month=6, day=21), axis=1)), 'season'] = 'Spring'\n",
    "    df.loc[(df['Data_Hora'] >= df.apply(lambda row: pd.Timestamp(year=row['year'], month=6, day=21), axis=1)) & (df['Data_Hora'] < df.apply(lambda row: pd.Timestamp(year=row['year'], month=9, day=23), axis=1)), 'season'] = 'Summer'\n",
    "    df.loc[(df['Data_Hora'] >= df.apply(lambda row: pd.Timestamp(year=row['year'], month=9, day=23), axis=1)) & (df['Data_Hora'] < df.apply(lambda row: pd.Timestamp(year=row['year'], month=12, day=22), axis=1)), 'season'] = 'Fall'\n",
    "    df.loc[(df['Data_Hora'] >= df.apply(lambda row: pd.Timestamp(year=row['year'], month=12, day=22), axis=1)) | (df['Data_Hora'] < df.apply(lambda row: pd.Timestamp(year=row['year'], month=3, day=20), axis=1)), 'season'] = 'Winter'\n",
    "    \n",
    "    season_map = {'Winter': 4, 'Spring': 1, 'Summer': 2, 'Fall': 3}\n",
    "    df['season'] = df['season'].map(season_map).astype('int64')\n",
    "    \n",
    "    return df"
   ]
  },
  {
   "cell_type": "markdown",
   "id": "49ea06b4",
   "metadata": {
    "heading_collapsed": true
   },
   "source": [
    "# 0.1 - Data"
   ]
  },
  {
   "cell_type": "code",
   "execution_count": 4,
   "id": "7b157bae",
   "metadata": {
    "ExecuteTime": {
     "end_time": "2024-06-21T19:54:38.998889Z",
     "start_time": "2024-06-21T19:54:38.474415Z"
    },
    "hidden": true
   },
   "outputs": [],
   "source": [
    "dfs = []\n",
    "\n",
    "for i in range(2002, 2019):\n",
    "    file = rf\"C:\\Users\\gfurt\\Ciência de dados\\Séries temporais\\inmet_prophet\\Dados\\INMET_SE_RJ_A601_ECOLOGIA AGRICOLA_01-01-{i}_A_31-12-{i}.csv\"\n",
    "    df = pd.read_csv(file, encoding='ISO-8859-1', delimiter=';', skiprows=8)\n",
    "    dfs.append(df)\n",
    "    \n",
    "df_raw_1 = pd.concat(dfs, ignore_index=True)"
   ]
  },
  {
   "cell_type": "code",
   "execution_count": 5,
   "id": "e6982cfe",
   "metadata": {
    "ExecuteTime": {
     "end_time": "2024-06-21T19:54:39.176143Z",
     "start_time": "2024-06-21T19:54:39.002860Z"
    },
    "hidden": true
   },
   "outputs": [],
   "source": [
    "cols = df_raw_1.columns\n",
    "dfs = []\n",
    "\n",
    "for i in range(2019, 2024):\n",
    "    file = rf\"C:\\Users\\gfurt\\Ciência de dados\\Séries temporais\\inmet_prophet\\Dados\\INMET_SE_RJ_A601_SEROPEDICA-ECOLOGIA AGRICOLA_01-01-{i}_A_31-12-{i}.csv\"\n",
    "    df = pd.read_csv(file, encoding='ISO-8859-1', delimiter=';', skiprows=9,\n",
    "                     names=cols)\n",
    "    dfs.append(df)\n",
    "    \n",
    "df_raw_2 = pd.concat(dfs, ignore_index=True)"
   ]
  },
  {
   "cell_type": "code",
   "execution_count": 6,
   "id": "905a6ba5",
   "metadata": {
    "ExecuteTime": {
     "end_time": "2024-06-21T19:54:39.694649Z",
     "start_time": "2024-06-21T19:54:39.180190Z"
    },
    "hidden": true
   },
   "outputs": [],
   "source": [
    "df_raw_2['HORA (UTC)'] = df_raw_2['HORA (UTC)'].str[:4]\n",
    "df_raw_2['HORA (UTC)'] = df_raw_2['HORA (UTC)'].apply(lambda x: datetime.strptime(x, '%H%M').strftime('%H:%M'))"
   ]
  },
  {
   "cell_type": "code",
   "execution_count": 7,
   "id": "f5a6ce04",
   "metadata": {
    "ExecuteTime": {
     "end_time": "2024-06-21T19:54:39.749028Z",
     "start_time": "2024-06-21T19:54:39.696657Z"
    },
    "hidden": true
   },
   "outputs": [],
   "source": [
    "# Convertendo a coluna 'DATA (YYYY-MM-DD)' em df_raw_1 para datetime\n",
    "df_raw_1['DATA (YYYY-MM-DD)'] = pd.to_datetime(df_raw_1['DATA (YYYY-MM-DD)'])\n",
    "\n",
    "# Convertendo a coluna 'DATA (YYYY-MM-DD)' em df_raw_2 para datetime\n",
    "df_raw_2['DATA (YYYY-MM-DD)'] = pd.to_datetime(df_raw_2['DATA (YYYY-MM-DD)'])"
   ]
  },
  {
   "cell_type": "code",
   "execution_count": 8,
   "id": "4ac7f0b0",
   "metadata": {
    "ExecuteTime": {
     "end_time": "2024-06-21T19:54:39.775905Z",
     "start_time": "2024-06-21T19:54:39.749028Z"
    },
    "hidden": true
   },
   "outputs": [],
   "source": [
    "df_raw = pd.concat([df_raw_1, df_raw_2], ignore_index=True)"
   ]
  },
  {
   "cell_type": "markdown",
   "id": "81db0071",
   "metadata": {},
   "source": [
    "# 1.0 - Data description"
   ]
  },
  {
   "cell_type": "code",
   "execution_count": 9,
   "id": "d762fd8e",
   "metadata": {
    "ExecuteTime": {
     "end_time": "2024-06-21T19:54:39.836688Z",
     "start_time": "2024-06-21T19:54:39.775905Z"
    }
   },
   "outputs": [],
   "source": [
    "df1 = df_raw.copy()"
   ]
  },
  {
   "cell_type": "markdown",
   "id": "bec52ff1",
   "metadata": {},
   "source": [
    "## 1.1 - Data dimensions"
   ]
  },
  {
   "cell_type": "code",
   "execution_count": 10,
   "id": "0fb05f05",
   "metadata": {
    "ExecuteTime": {
     "end_time": "2024-06-21T19:54:39.846111Z",
     "start_time": "2024-06-21T19:54:39.837696Z"
    }
   },
   "outputs": [
    {
     "data": {
      "text/plain": [
       "(192840, 20)"
      ]
     },
     "execution_count": 10,
     "metadata": {},
     "output_type": "execute_result"
    }
   ],
   "source": [
    "df1.shape"
   ]
  },
  {
   "cell_type": "markdown",
   "id": "8ea33cb8",
   "metadata": {},
   "source": [
    "## 1.2 - Data Type"
   ]
  },
  {
   "cell_type": "code",
   "execution_count": 11,
   "id": "68a59bc4",
   "metadata": {
    "ExecuteTime": {
     "end_time": "2024-06-21T19:54:39.857569Z",
     "start_time": "2024-06-21T19:54:39.846111Z"
    }
   },
   "outputs": [
    {
     "data": {
      "text/plain": [
       "DATA (YYYY-MM-DD)                                        datetime64[ns]\n",
       "HORA (UTC)                                                       object\n",
       "PRECIPITAÇÃO TOTAL, HORÁRIO (mm)                                 object\n",
       "PRESSAO ATMOSFERICA AO NIVEL DA ESTACAO, HORARIA (mB)            object\n",
       "PRESSÃO ATMOSFERICA MAX.NA HORA ANT. (AUT) (mB)                  object\n",
       "PRESSÃO ATMOSFERICA MIN. NA HORA ANT. (AUT) (mB)                 object\n",
       "RADIACAO GLOBAL (KJ/m²)                                          object\n",
       "TEMPERATURA DO AR - BULBO SECO, HORARIA (°C)                     object\n",
       "TEMPERATURA DO PONTO DE ORVALHO (°C)                             object\n",
       "TEMPERATURA MÁXIMA NA HORA ANT. (AUT) (°C)                       object\n",
       "TEMPERATURA MÍNIMA NA HORA ANT. (AUT) (°C)                       object\n",
       "TEMPERATURA ORVALHO MAX. NA HORA ANT. (AUT) (°C)                 object\n",
       "TEMPERATURA ORVALHO MIN. NA HORA ANT. (AUT) (°C)                 object\n",
       "UMIDADE REL. MAX. NA HORA ANT. (AUT) (%)                        float64\n",
       "UMIDADE REL. MIN. NA HORA ANT. (AUT) (%)                        float64\n",
       "UMIDADE RELATIVA DO AR, HORARIA (%)                             float64\n",
       "VENTO, DIREÇÃO HORARIA (gr) (° (gr))                            float64\n",
       "VENTO, RAJADA MAXIMA (m/s)                                       object\n",
       "VENTO, VELOCIDADE HORARIA (m/s)                                  object\n",
       "Unnamed: 19                                                     float64\n",
       "dtype: object"
      ]
     },
     "execution_count": 11,
     "metadata": {},
     "output_type": "execute_result"
    }
   ],
   "source": [
    "df1.dtypes"
   ]
  },
  {
   "cell_type": "code",
   "execution_count": 12,
   "id": "4f413bff",
   "metadata": {
    "ExecuteTime": {
     "end_time": "2024-06-21T19:54:41.233209Z",
     "start_time": "2024-06-21T19:54:39.859578Z"
    }
   },
   "outputs": [],
   "source": [
    "columns = df1.columns[2:-1]\n",
    "\n",
    "for i in columns:\n",
    "    df1[i] = df1[i].astype(str)\n",
    "    df1[i] = df1[i].str.replace(',', '.')\n",
    "    df1[i] = df1[i].astype(float)"
   ]
  },
  {
   "cell_type": "code",
   "execution_count": 13,
   "id": "af4478ad",
   "metadata": {
    "ExecuteTime": {
     "end_time": "2024-06-21T19:54:41.262387Z",
     "start_time": "2024-06-21T19:54:41.235222Z"
    },
    "scrolled": false
   },
   "outputs": [
    {
     "data": {
      "text/plain": [
       "DATA (YYYY-MM-DD)                                        datetime64[ns]\n",
       "HORA (UTC)                                                       object\n",
       "PRECIPITAÇÃO TOTAL, HORÁRIO (mm)                                float64\n",
       "PRESSAO ATMOSFERICA AO NIVEL DA ESTACAO, HORARIA (mB)           float64\n",
       "PRESSÃO ATMOSFERICA MAX.NA HORA ANT. (AUT) (mB)                 float64\n",
       "PRESSÃO ATMOSFERICA MIN. NA HORA ANT. (AUT) (mB)                float64\n",
       "RADIACAO GLOBAL (KJ/m²)                                         float64\n",
       "TEMPERATURA DO AR - BULBO SECO, HORARIA (°C)                    float64\n",
       "TEMPERATURA DO PONTO DE ORVALHO (°C)                            float64\n",
       "TEMPERATURA MÁXIMA NA HORA ANT. (AUT) (°C)                      float64\n",
       "TEMPERATURA MÍNIMA NA HORA ANT. (AUT) (°C)                      float64\n",
       "TEMPERATURA ORVALHO MAX. NA HORA ANT. (AUT) (°C)                float64\n",
       "TEMPERATURA ORVALHO MIN. NA HORA ANT. (AUT) (°C)                float64\n",
       "UMIDADE REL. MAX. NA HORA ANT. (AUT) (%)                        float64\n",
       "UMIDADE REL. MIN. NA HORA ANT. (AUT) (%)                        float64\n",
       "UMIDADE RELATIVA DO AR, HORARIA (%)                             float64\n",
       "VENTO, DIREÇÃO HORARIA (gr) (° (gr))                            float64\n",
       "VENTO, RAJADA MAXIMA (m/s)                                      float64\n",
       "VENTO, VELOCIDADE HORARIA (m/s)                                 float64\n",
       "Unnamed: 19                                                     float64\n",
       "dtype: object"
      ]
     },
     "execution_count": 13,
     "metadata": {},
     "output_type": "execute_result"
    }
   ],
   "source": [
    "df1.dtypes"
   ]
  },
  {
   "cell_type": "markdown",
   "id": "0dac696e",
   "metadata": {},
   "source": [
    "## 1.3 - Missing Values"
   ]
  },
  {
   "cell_type": "code",
   "execution_count": 14,
   "id": "5f4fa338",
   "metadata": {
    "ExecuteTime": {
     "end_time": "2024-06-21T19:54:41.334546Z",
     "start_time": "2024-06-21T19:54:41.264395Z"
    }
   },
   "outputs": [
    {
     "data": {
      "text/html": [
       "<div>\n",
       "<style scoped>\n",
       "    .dataframe tbody tr th:only-of-type {\n",
       "        vertical-align: middle;\n",
       "    }\n",
       "\n",
       "    .dataframe tbody tr th {\n",
       "        vertical-align: top;\n",
       "    }\n",
       "\n",
       "    .dataframe thead th {\n",
       "        text-align: right;\n",
       "    }\n",
       "</style>\n",
       "<table border=\"1\" class=\"dataframe\">\n",
       "  <thead>\n",
       "    <tr style=\"text-align: right;\">\n",
       "      <th></th>\n",
       "      <th>Total</th>\n",
       "      <th>Missing</th>\n",
       "      <th>Percent Missing</th>\n",
       "    </tr>\n",
       "  </thead>\n",
       "  <tbody>\n",
       "    <tr>\n",
       "      <th>DATA (YYYY-MM-DD)</th>\n",
       "      <td>192840</td>\n",
       "      <td>0</td>\n",
       "      <td>0.00%</td>\n",
       "    </tr>\n",
       "    <tr>\n",
       "      <th>HORA (UTC)</th>\n",
       "      <td>192840</td>\n",
       "      <td>0</td>\n",
       "      <td>0.00%</td>\n",
       "    </tr>\n",
       "    <tr>\n",
       "      <th>PRECIPITAÇÃO TOTAL, HORÁRIO (mm)</th>\n",
       "      <td>192840</td>\n",
       "      <td>2296</td>\n",
       "      <td>1.19%</td>\n",
       "    </tr>\n",
       "    <tr>\n",
       "      <th>PRESSAO ATMOSFERICA AO NIVEL DA ESTACAO, HORARIA (mB)</th>\n",
       "      <td>192840</td>\n",
       "      <td>2196</td>\n",
       "      <td>1.14%</td>\n",
       "    </tr>\n",
       "    <tr>\n",
       "      <th>PRESSÃO ATMOSFERICA MAX.NA HORA ANT. (AUT) (mB)</th>\n",
       "      <td>192840</td>\n",
       "      <td>2201</td>\n",
       "      <td>1.14%</td>\n",
       "    </tr>\n",
       "    <tr>\n",
       "      <th>PRESSÃO ATMOSFERICA MIN. NA HORA ANT. (AUT) (mB)</th>\n",
       "      <td>192840</td>\n",
       "      <td>2201</td>\n",
       "      <td>1.14%</td>\n",
       "    </tr>\n",
       "    <tr>\n",
       "      <th>RADIACAO GLOBAL (KJ/m²)</th>\n",
       "      <td>192840</td>\n",
       "      <td>20770</td>\n",
       "      <td>10.77%</td>\n",
       "    </tr>\n",
       "    <tr>\n",
       "      <th>TEMPERATURA DO AR - BULBO SECO, HORARIA (°C)</th>\n",
       "      <td>192840</td>\n",
       "      <td>962</td>\n",
       "      <td>0.50%</td>\n",
       "    </tr>\n",
       "    <tr>\n",
       "      <th>TEMPERATURA DO PONTO DE ORVALHO (°C)</th>\n",
       "      <td>192840</td>\n",
       "      <td>962</td>\n",
       "      <td>0.50%</td>\n",
       "    </tr>\n",
       "    <tr>\n",
       "      <th>TEMPERATURA MÁXIMA NA HORA ANT. (AUT) (°C)</th>\n",
       "      <td>192840</td>\n",
       "      <td>969</td>\n",
       "      <td>0.50%</td>\n",
       "    </tr>\n",
       "    <tr>\n",
       "      <th>TEMPERATURA MÍNIMA NA HORA ANT. (AUT) (°C)</th>\n",
       "      <td>192840</td>\n",
       "      <td>968</td>\n",
       "      <td>0.50%</td>\n",
       "    </tr>\n",
       "    <tr>\n",
       "      <th>TEMPERATURA ORVALHO MAX. NA HORA ANT. (AUT) (°C)</th>\n",
       "      <td>192840</td>\n",
       "      <td>968</td>\n",
       "      <td>0.50%</td>\n",
       "    </tr>\n",
       "    <tr>\n",
       "      <th>TEMPERATURA ORVALHO MIN. NA HORA ANT. (AUT) (°C)</th>\n",
       "      <td>192840</td>\n",
       "      <td>969</td>\n",
       "      <td>0.50%</td>\n",
       "    </tr>\n",
       "    <tr>\n",
       "      <th>UMIDADE REL. MAX. NA HORA ANT. (AUT) (%)</th>\n",
       "      <td>192840</td>\n",
       "      <td>968</td>\n",
       "      <td>0.50%</td>\n",
       "    </tr>\n",
       "    <tr>\n",
       "      <th>UMIDADE REL. MIN. NA HORA ANT. (AUT) (%)</th>\n",
       "      <td>192840</td>\n",
       "      <td>968</td>\n",
       "      <td>0.50%</td>\n",
       "    </tr>\n",
       "    <tr>\n",
       "      <th>UMIDADE RELATIVA DO AR, HORARIA (%)</th>\n",
       "      <td>192840</td>\n",
       "      <td>962</td>\n",
       "      <td>0.50%</td>\n",
       "    </tr>\n",
       "    <tr>\n",
       "      <th>VENTO, DIREÇÃO HORARIA (gr) (° (gr))</th>\n",
       "      <td>192840</td>\n",
       "      <td>959</td>\n",
       "      <td>0.50%</td>\n",
       "    </tr>\n",
       "    <tr>\n",
       "      <th>VENTO, RAJADA MAXIMA (m/s)</th>\n",
       "      <td>192840</td>\n",
       "      <td>967</td>\n",
       "      <td>0.50%</td>\n",
       "    </tr>\n",
       "    <tr>\n",
       "      <th>VENTO, VELOCIDADE HORARIA (m/s)</th>\n",
       "      <td>192840</td>\n",
       "      <td>959</td>\n",
       "      <td>0.50%</td>\n",
       "    </tr>\n",
       "    <tr>\n",
       "      <th>Unnamed: 19</th>\n",
       "      <td>192840</td>\n",
       "      <td>192840</td>\n",
       "      <td>100.00%</td>\n",
       "    </tr>\n",
       "  </tbody>\n",
       "</table>\n",
       "</div>"
      ],
      "text/plain": [
       "                                                     Total  Missing  \\\n",
       "DATA (YYYY-MM-DD)                                   192840        0   \n",
       "HORA (UTC)                                          192840        0   \n",
       "PRECIPITAÇÃO TOTAL, HORÁRIO (mm)                    192840     2296   \n",
       "PRESSAO ATMOSFERICA AO NIVEL DA ESTACAO, HORARI...  192840     2196   \n",
       "PRESSÃO ATMOSFERICA MAX.NA HORA ANT. (AUT) (mB)     192840     2201   \n",
       "PRESSÃO ATMOSFERICA MIN. NA HORA ANT. (AUT) (mB)    192840     2201   \n",
       "RADIACAO GLOBAL (KJ/m²)                             192840    20770   \n",
       "TEMPERATURA DO AR - BULBO SECO, HORARIA (°C)        192840      962   \n",
       "TEMPERATURA DO PONTO DE ORVALHO (°C)                192840      962   \n",
       "TEMPERATURA MÁXIMA NA HORA ANT. (AUT) (°C)          192840      969   \n",
       "TEMPERATURA MÍNIMA NA HORA ANT. (AUT) (°C)          192840      968   \n",
       "TEMPERATURA ORVALHO MAX. NA HORA ANT. (AUT) (°C)    192840      968   \n",
       "TEMPERATURA ORVALHO MIN. NA HORA ANT. (AUT) (°C)    192840      969   \n",
       "UMIDADE REL. MAX. NA HORA ANT. (AUT) (%)            192840      968   \n",
       "UMIDADE REL. MIN. NA HORA ANT. (AUT) (%)            192840      968   \n",
       "UMIDADE RELATIVA DO AR, HORARIA (%)                 192840      962   \n",
       "VENTO, DIREÇÃO HORARIA (gr) (° (gr))                192840      959   \n",
       "VENTO, RAJADA MAXIMA (m/s)                          192840      967   \n",
       "VENTO, VELOCIDADE HORARIA (m/s)                     192840      959   \n",
       "Unnamed: 19                                         192840   192840   \n",
       "\n",
       "                                                   Percent Missing  \n",
       "DATA (YYYY-MM-DD)                                            0.00%  \n",
       "HORA (UTC)                                                   0.00%  \n",
       "PRECIPITAÇÃO TOTAL, HORÁRIO (mm)                             1.19%  \n",
       "PRESSAO ATMOSFERICA AO NIVEL DA ESTACAO, HORARI...           1.14%  \n",
       "PRESSÃO ATMOSFERICA MAX.NA HORA ANT. (AUT) (mB)              1.14%  \n",
       "PRESSÃO ATMOSFERICA MIN. NA HORA ANT. (AUT) (mB)             1.14%  \n",
       "RADIACAO GLOBAL (KJ/m²)                                     10.77%  \n",
       "TEMPERATURA DO AR - BULBO SECO, HORARIA (°C)                 0.50%  \n",
       "TEMPERATURA DO PONTO DE ORVALHO (°C)                         0.50%  \n",
       "TEMPERATURA MÁXIMA NA HORA ANT. (AUT) (°C)                   0.50%  \n",
       "TEMPERATURA MÍNIMA NA HORA ANT. (AUT) (°C)                   0.50%  \n",
       "TEMPERATURA ORVALHO MAX. NA HORA ANT. (AUT) (°C)             0.50%  \n",
       "TEMPERATURA ORVALHO MIN. NA HORA ANT. (AUT) (°C)             0.50%  \n",
       "UMIDADE REL. MAX. NA HORA ANT. (AUT) (%)                     0.50%  \n",
       "UMIDADE REL. MIN. NA HORA ANT. (AUT) (%)                     0.50%  \n",
       "UMIDADE RELATIVA DO AR, HORARIA (%)                          0.50%  \n",
       "VENTO, DIREÇÃO HORARIA (gr) (° (gr))                         0.50%  \n",
       "VENTO, RAJADA MAXIMA (m/s)                                   0.50%  \n",
       "VENTO, VELOCIDADE HORARIA (m/s)                              0.50%  \n",
       "Unnamed: 19                                                100.00%  "
      ]
     },
     "execution_count": 14,
     "metadata": {},
     "output_type": "execute_result"
    }
   ],
   "source": [
    "total_values = df1.shape[0]\n",
    "missing_values = df1.isnull().sum()\n",
    "percent_missing = (missing_values / total_values) * 100\n",
    "\n",
    "missing_data_table = pd.DataFrame({\n",
    "    'Total': total_values,\n",
    "    'Missing': missing_values,\n",
    "    'Percent Missing': percent_missing\n",
    "})\n",
    "\n",
    "missing_data_table['Percent Missing'] = missing_data_table['Percent Missing'].map(lambda x: f'{x:.2f}%')\n",
    "missing_data_table"
   ]
  },
  {
   "cell_type": "markdown",
   "id": "9d808565",
   "metadata": {
    "heading_collapsed": true
   },
   "source": [
    "# 2.0 - Feature engineering"
   ]
  },
  {
   "cell_type": "code",
   "execution_count": 15,
   "id": "02c6f5c6",
   "metadata": {
    "ExecuteTime": {
     "end_time": "2024-06-21T19:54:41.381995Z",
     "start_time": "2024-06-21T19:54:41.340004Z"
    },
    "hidden": true
   },
   "outputs": [],
   "source": [
    "df2 = df1.copy()"
   ]
  },
  {
   "cell_type": "code",
   "execution_count": 16,
   "id": "a1d4df83",
   "metadata": {
    "ExecuteTime": {
     "end_time": "2024-06-21T19:54:41.565668Z",
     "start_time": "2024-06-21T19:54:41.381995Z"
    },
    "hidden": true
   },
   "outputs": [],
   "source": [
    "df2['HORA (UTC)'] = pd.to_timedelta(df2['HORA (UTC)'] + ':00')\n",
    "df2['Data_Hora'] = df2['DATA (YYYY-MM-DD)'] + df2['HORA (UTC)']\n",
    "\n",
    "df2['Data_Hora'] = pd.to_datetime(df2['Data_Hora'])"
   ]
  },
  {
   "cell_type": "code",
   "execution_count": 17,
   "id": "07acd4f1",
   "metadata": {
    "ExecuteTime": {
     "end_time": "2024-06-21T19:55:09.753148Z",
     "start_time": "2024-06-21T19:54:41.567707Z"
    },
    "hidden": true
   },
   "outputs": [],
   "source": [
    "# creating columns 'date, hour, dayofweek, quarter, month, year, dayofyear, dayofmonth, weekofyear, season'\n",
    "\n",
    "df2 = create_features(df2)"
   ]
  },
  {
   "cell_type": "markdown",
   "id": "08be0a58",
   "metadata": {
    "heading_collapsed": true
   },
   "source": [
    "# 3.0 - Data Cleaning"
   ]
  },
  {
   "cell_type": "code",
   "execution_count": 18,
   "id": "6f5b9c3e",
   "metadata": {
    "ExecuteTime": {
     "end_time": "2024-06-21T19:55:09.782149Z",
     "start_time": "2024-06-21T19:55:09.755158Z"
    },
    "hidden": true
   },
   "outputs": [],
   "source": [
    "df3 = df2.copy()"
   ]
  },
  {
   "cell_type": "markdown",
   "id": "06068ab6",
   "metadata": {
    "hidden": true
   },
   "source": [
    "## 3.1 - Replace -9999 values for nan"
   ]
  },
  {
   "cell_type": "code",
   "execution_count": 19,
   "id": "1fbba8ba",
   "metadata": {
    "ExecuteTime": {
     "end_time": "2024-06-21T19:55:09.810863Z",
     "start_time": "2024-06-21T19:55:09.784650Z"
    },
    "hidden": true
   },
   "outputs": [],
   "source": [
    "df3 = df3.replace(-9999, np.nan)"
   ]
  },
  {
   "cell_type": "markdown",
   "id": "92e96881",
   "metadata": {
    "hidden": true
   },
   "source": [
    "## 3.2 - Removing columns"
   ]
  },
  {
   "cell_type": "code",
   "execution_count": 20,
   "id": "26800ccd",
   "metadata": {
    "ExecuteTime": {
     "end_time": "2024-06-21T19:55:09.828755Z",
     "start_time": "2024-06-21T19:55:09.813369Z"
    },
    "hidden": true
   },
   "outputs": [],
   "source": [
    "columns_ordered = [\n",
    "    'Data_Hora', 'hour', 'dayofweek', 'quarter', 'month', 'year',\n",
    "    'dayofyear', 'dayofmonth', 'weekofyear', 'season',\n",
    "    'TEMPERATURA DO AR - BULBO SECO, HORARIA (°C)'\n",
    "]\n",
    "\n",
    "# Reindexar o DataFrame com a ordem desejada das colunas\n",
    "df3 = df3.reindex(columns=columns_ordered)"
   ]
  },
  {
   "cell_type": "markdown",
   "id": "40aeac06",
   "metadata": {
    "hidden": true
   },
   "source": [
    "## 3.4 - Missing values"
   ]
  },
  {
   "cell_type": "code",
   "execution_count": 21,
   "id": "562e359e",
   "metadata": {
    "ExecuteTime": {
     "end_time": "2024-06-21T19:55:09.852972Z",
     "start_time": "2024-06-21T19:55:09.828755Z"
    },
    "hidden": true
   },
   "outputs": [
    {
     "data": {
      "text/plain": [
       "Data_Hora                                       0\n",
       "hour                                            0\n",
       "dayofweek                                       0\n",
       "quarter                                         0\n",
       "month                                           0\n",
       "year                                            0\n",
       "dayofyear                                       0\n",
       "dayofmonth                                      0\n",
       "weekofyear                                      0\n",
       "season                                          0\n",
       "TEMPERATURA DO AR - BULBO SECO, HORARIA (°C)    0\n",
       "dtype: int64"
      ]
     },
     "execution_count": 21,
     "metadata": {},
     "output_type": "execute_result"
    }
   ],
   "source": [
    "imputer = SimpleImputer(strategy='mean')\n",
    "\n",
    "df3['TEMPERATURA DO AR - BULBO SECO, HORARIA (°C)'] = imputer.fit_transform(df3[['TEMPERATURA DO AR - BULBO SECO, HORARIA (°C)']])\n",
    "\n",
    "df3.isnull().sum()"
   ]
  },
  {
   "cell_type": "markdown",
   "id": "1270be6d",
   "metadata": {},
   "source": [
    "# 4.0 - Exploratory Data Analysis"
   ]
  },
  {
   "cell_type": "code",
   "execution_count": 22,
   "id": "23534d6d",
   "metadata": {
    "ExecuteTime": {
     "end_time": "2024-06-21T19:55:09.864251Z",
     "start_time": "2024-06-21T19:55:09.852972Z"
    }
   },
   "outputs": [],
   "source": [
    "df4 = df3.copy()"
   ]
  },
  {
   "cell_type": "markdown",
   "id": "d4642192",
   "metadata": {
    "heading_collapsed": true
   },
   "source": [
    "# 5.0 - Data Preparation"
   ]
  },
  {
   "cell_type": "code",
   "execution_count": 23,
   "id": "f924d657",
   "metadata": {
    "ExecuteTime": {
     "end_time": "2024-06-21T19:55:09.874064Z",
     "start_time": "2024-06-21T19:55:09.864251Z"
    },
    "hidden": true
   },
   "outputs": [],
   "source": [
    "df5 = df4.copy()"
   ]
  },
  {
   "cell_type": "code",
   "execution_count": 24,
   "id": "10ef6094",
   "metadata": {
    "ExecuteTime": {
     "end_time": "2024-06-21T19:55:09.886424Z",
     "start_time": "2024-06-21T19:55:09.876266Z"
    },
    "hidden": true
   },
   "outputs": [],
   "source": [
    "df5 = df5.set_index('Data_Hora')"
   ]
  },
  {
   "cell_type": "code",
   "execution_count": 25,
   "id": "6d13fb8d",
   "metadata": {
    "ExecuteTime": {
     "end_time": "2024-06-21T19:55:09.899289Z",
     "start_time": "2024-06-21T19:55:09.886424Z"
    },
    "hidden": true
   },
   "outputs": [],
   "source": [
    "mms = MinMaxScaler()\n",
    "\n",
    "df5['TEMPERATURA DO AR - BULBO SECO, HORARIA (°C)'] = mms.fit_transform(df5[['TEMPERATURA DO AR - BULBO SECO, HORARIA (°C)']])"
   ]
  },
  {
   "cell_type": "markdown",
   "id": "4096dafd",
   "metadata": {},
   "source": [
    "# 6.0 - Feature Selection"
   ]
  },
  {
   "cell_type": "code",
   "execution_count": 26,
   "id": "09c21385",
   "metadata": {
    "ExecuteTime": {
     "end_time": "2024-06-21T19:55:09.907960Z",
     "start_time": "2024-06-21T19:55:09.899289Z"
    }
   },
   "outputs": [],
   "source": [
    "df6 = df5.copy()"
   ]
  },
  {
   "cell_type": "code",
   "execution_count": 27,
   "id": "aa0cdbeb",
   "metadata": {
    "ExecuteTime": {
     "end_time": "2024-06-21T19:55:09.917702Z",
     "start_time": "2024-06-21T19:55:09.909620Z"
    }
   },
   "outputs": [],
   "source": [
    "# df6 = df6[['TEMPERATURA DO AR - BULBO SECO, HORARIA (°C)']].copy()"
   ]
  },
  {
   "cell_type": "code",
   "execution_count": 28,
   "id": "26e5a871",
   "metadata": {
    "ExecuteTime": {
     "end_time": "2024-06-21T19:55:09.931515Z",
     "start_time": "2024-06-21T19:55:09.917702Z"
    }
   },
   "outputs": [],
   "source": [
    "# train = df6.loc[df6.index < '2019-01-01']\n",
    "# test = df6.loc[df6.index >= '2019-01-01']"
   ]
  },
  {
   "cell_type": "code",
   "execution_count": 44,
   "id": "71324bbd",
   "metadata": {
    "ExecuteTime": {
     "end_time": "2024-06-20T17:05:49.754467Z",
     "start_time": "2024-06-20T17:05:49.453081Z"
    }
   },
   "outputs": [],
   "source": [
    "# n_input = 24\n",
    "# X_train, y_train = create_sequences(train['TEMPERATURA DO AR - BULBO SECO, HORARIA (°C)'].values, n_input)\n",
    "# X_test, y_test = create_sequences(test['TEMPERATURA DO AR - BULBO SECO, HORARIA (°C)'].values, n_input)"
   ]
  },
  {
   "cell_type": "code",
   "execution_count": 45,
   "id": "e0226825",
   "metadata": {
    "ExecuteTime": {
     "end_time": "2024-06-20T17:05:49.767399Z",
     "start_time": "2024-06-20T17:05:49.757480Z"
    }
   },
   "outputs": [],
   "source": [
    "# X_train = X_train.reshape((X_train.shape[0], X_train.shape[1], 1))\n",
    "# X_test = X_test.reshape((X_test.shape[0], X_test.shape[1], 1))"
   ]
  },
  {
   "cell_type": "code",
   "execution_count": 29,
   "id": "7befbf55",
   "metadata": {
    "ExecuteTime": {
     "end_time": "2024-06-21T19:55:09.940872Z",
     "start_time": "2024-06-21T19:55:09.931515Z"
    }
   },
   "outputs": [],
   "source": [
    "import numpy as np\n",
    "import pandas as pd\n",
    "from sklearn.preprocessing import MinMaxScaler\n",
    "from sklearn.model_selection import train_test_split\n",
    "from keras.models import Sequential\n",
    "from keras.layers import Dense"
   ]
  },
  {
   "cell_type": "code",
   "execution_count": 38,
   "id": "4a7ec85e",
   "metadata": {
    "ExecuteTime": {
     "end_time": "2024-06-21T19:57:48.656345Z",
     "start_time": "2024-06-21T19:57:48.649659Z"
    }
   },
   "outputs": [],
   "source": [
    "def create_lagged_features(data, n_lags):\n",
    "    df = pd.DataFrame(data)\n",
    "    columns = [df.shift(i) for i in range(n_lags, 0, -1)]\n",
    "    columns.append(df)  # Adiciona a coluna original como a última coluna\n",
    "    df = pd.concat(columns, axis=1)\n",
    "    df.dropna(inplace=True)\n",
    "    return df"
   ]
  },
  {
   "cell_type": "code",
   "execution_count": 39,
   "id": "fd09b808",
   "metadata": {
    "ExecuteTime": {
     "end_time": "2024-06-21T19:57:49.220088Z",
     "start_time": "2024-06-21T19:57:49.047694Z"
    }
   },
   "outputs": [],
   "source": [
    "temperatures = df6['TEMPERATURA DO AR - BULBO SECO, HORARIA (°C)'].values\n",
    "\n",
    "# Normalizar os dados\n",
    "scaler = MinMaxScaler(feature_range=(0, 1))\n",
    "temperatures_scaled = scaler.fit_transform(temperatures.reshape(-1, 1))\n",
    "\n",
    "# Criar características com lags\n",
    "n_lags = 24  # usar as últimas 24 horas\n",
    "lagged_data = create_lagged_features(temperatures_scaled, n_lags)\n",
    "X = lagged_data.values[:, :-1]\n",
    "y = lagged_data.values[:, -1]\n",
    "\n",
    "# Dividir em conjuntos de treino e teste\n",
    "X_train, X_test, y_train, y_test = train_test_split(X, y, test_size=0.2, shuffle=False)\n"
   ]
  },
  {
   "cell_type": "code",
   "execution_count": 40,
   "id": "006b1d72",
   "metadata": {
    "ExecuteTime": {
     "end_time": "2024-06-21T19:57:49.470156Z",
     "start_time": "2024-06-21T19:57:49.462205Z"
    }
   },
   "outputs": [
    {
     "data": {
      "text/plain": [
       "array([0.47633136, 0.46745562, 0.4260355 , 0.41420118, 0.40236686,\n",
       "       0.43195266, 0.44378698, 0.4704142 , 0.47928994, 0.47633136,\n",
       "       0.51775148, 0.55621302, 0.59467456, 0.63905325, 0.67455621,\n",
       "       0.68639053, 0.71301775, 0.73076923, 0.44798157, 0.58284024,\n",
       "       0.56213018, 0.52071006, 0.5       , 0.48224852])"
      ]
     },
     "execution_count": 40,
     "metadata": {},
     "output_type": "execute_result"
    }
   ],
   "source": [
    "X_train[0]"
   ]
  },
  {
   "cell_type": "markdown",
   "id": "5543b2f9",
   "metadata": {},
   "source": [
    "# 7.0 - Machine Learning"
   ]
  },
  {
   "cell_type": "code",
   "execution_count": null,
   "id": "7d10ca17",
   "metadata": {
    "ExecuteTime": {
     "start_time": "2024-06-21T20:04:35.882Z"
    },
    "scrolled": true
   },
   "outputs": [
    {
     "name": "stdout",
     "output_type": "stream",
     "text": [
      "Epoch 1/50\n",
      "\u001b[1m3857/3857\u001b[0m \u001b[32m━━━━━━━━━━━━━━━━━━━━\u001b[0m\u001b[37m\u001b[0m \u001b[1m6s\u001b[0m 1ms/step - loss: 0.0067 - val_loss: 9.4252e-04\n",
      "Epoch 2/50\n",
      "\u001b[1m3857/3857\u001b[0m \u001b[32m━━━━━━━━━━━━━━━━━━━━\u001b[0m\u001b[37m\u001b[0m \u001b[1m4s\u001b[0m 1ms/step - loss: 0.0010 - val_loss: 8.1190e-04\n",
      "Epoch 3/50\n",
      "\u001b[1m3857/3857\u001b[0m \u001b[32m━━━━━━━━━━━━━━━━━━━━\u001b[0m\u001b[37m\u001b[0m \u001b[1m5s\u001b[0m 1ms/step - loss: 9.9114e-04 - val_loss: 8.3585e-04\n",
      "Epoch 4/50\n",
      "\u001b[1m3857/3857\u001b[0m \u001b[32m━━━━━━━━━━━━━━━━━━━━\u001b[0m\u001b[37m\u001b[0m \u001b[1m6s\u001b[0m 2ms/step - loss: 9.9893e-04 - val_loss: 8.1050e-04\n",
      "Epoch 5/50\n",
      "\u001b[1m3857/3857\u001b[0m \u001b[32m━━━━━━━━━━━━━━━━━━━━\u001b[0m\u001b[37m\u001b[0m \u001b[1m6s\u001b[0m 1ms/step - loss: 9.9525e-04 - val_loss: 8.4404e-04\n",
      "Epoch 6/50\n",
      "\u001b[1m 437/3857\u001b[0m \u001b[32m━━\u001b[0m\u001b[37m━━━━━━━━━━━━━━━━━━\u001b[0m \u001b[1m3s\u001b[0m 1ms/step - loss: 9.9811e-04"
     ]
    }
   ],
   "source": [
    "# Construir o modelo MLP\n",
    "model = Sequential()\n",
    "model.add(Dense(50, activation='relu', input_dim=n_lags))\n",
    "model.add(Dense(1))\n",
    "model.compile(optimizer='adam', loss='mse')\n",
    "\n",
    "# Treinar o modelo\n",
    "history = model.fit(X_train, y_train, epochs=50, batch_size=32, validation_split=0.2, verbose=1)"
   ]
  },
  {
   "cell_type": "markdown",
   "id": "a78079e6",
   "metadata": {},
   "source": [
    "# 8.0 - Model Evaluation"
   ]
  },
  {
   "cell_type": "code",
   "execution_count": null,
   "id": "452f15be",
   "metadata": {
    "ExecuteTime": {
     "start_time": "2024-06-21T20:04:40.806Z"
    }
   },
   "outputs": [],
   "source": [
    "# Previsão iterativa para o próximo mês (720 horas)\n",
    "forecast = []\n",
    "input_seq = X_test[0]  # última sequência de entrada disponível no conjunto de teste\n",
    "\n",
    "for _ in range(720):\n",
    "    yhat = model.predict(input_seq.reshape(1, n_lags), verbose=0)\n",
    "    forecast.append(yhat[0, 0])\n",
    "    input_seq = np.append(input_seq[1:], yhat[0, 0]).reshape(-1, 1)  # atualizar a sequência de entrada com a previsão mais recente\n",
    "\n",
    "# Rescalar as previsões de volta à escala original\n",
    "forecast_rescaled = scaler.inverse_transform(np.array(forecast).reshape(-1, 1))\n",
    "\n",
    "# Comparar com y_test rescalado\n",
    "y_test_rescaled = scaler.inverse_transform(y_test[:720].reshape(-1, 1))\n",
    "\n",
    "# Calcular RMSE para MLP\n",
    "from sklearn.metrics import mean_squared_error\n",
    "rmse_mlp = mean_squared_error(y_test_rescaled, forecast_rescaled, squared=False)\n",
    "\n",
    "print(f'RMSE MLP: {rmse_mlp}')"
   ]
  },
  {
   "cell_type": "code",
   "execution_count": null,
   "id": "b5ce23d5",
   "metadata": {
    "ExecuteTime": {
     "start_time": "2024-06-21T20:04:43.710Z"
    }
   },
   "outputs": [],
   "source": [
    "# Plotar a perda de treinamento e validação ao longo das épocas\n",
    "plt.plot(history.history['loss'], label='Treinamento')\n",
    "plt.plot(history.history['val_loss'], label='Validação')\n",
    "plt.title('Perda do Modelo')\n",
    "plt.xlabel('Época')\n",
    "plt.ylabel('Perda')\n",
    "plt.legend()\n",
    "plt.show()"
   ]
  },
  {
   "cell_type": "code",
   "execution_count": null,
   "id": "1c1d3cfb",
   "metadata": {},
   "outputs": [],
   "source": [
    "dates = df6.index[-len(y_test_rescaled):]  # Últimas datas correspondentes aos dados de teste\n",
    "\n",
    "plt.figure(figsize=(24, 6))  # Ajuste aqui o tamanho (largura, altura)\n",
    "\n",
    "# Plota os dados reais e previstos com datas como rótulos do eixo x\n",
    "plt.plot(dates, y_test_rescaled, label='True', linewidth=0.5)\n",
    "plt.plot(dates, predictions_rescaled, label='Predicted', linewidth=0.5)\n",
    "\n",
    "plt.xlabel('Data')\n",
    "plt.ylabel('Temperatura (°C)')\n",
    "plt.title('True vs Predicted Temperature (°C)')\n",
    "plt.legend()\n",
    "plt.tight_layout()\n",
    "plt.xticks(rotation=45)\n",
    "\n",
    "plt.show()"
   ]
  }
 ],
 "metadata": {
  "hide_input": false,
  "kernelspec": {
   "display_name": "Python 3 (ipykernel)",
   "language": "python",
   "name": "python3"
  },
  "language_info": {
   "codemirror_mode": {
    "name": "ipython",
    "version": 3
   },
   "file_extension": ".py",
   "mimetype": "text/x-python",
   "name": "python",
   "nbconvert_exporter": "python",
   "pygments_lexer": "ipython3",
   "version": "3.11.7"
  }
 },
 "nbformat": 4,
 "nbformat_minor": 5
}
