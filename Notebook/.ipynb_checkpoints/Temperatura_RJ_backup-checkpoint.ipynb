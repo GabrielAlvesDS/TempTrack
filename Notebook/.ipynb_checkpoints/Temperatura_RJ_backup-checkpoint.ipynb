{
 "cells": [
  {
   "cell_type": "markdown",
   "id": "af4e501e",
   "metadata": {},
   "source": [
    "# 0.0 - Imports"
   ]
  },
  {
   "cell_type": "code",
   "execution_count": 1,
   "id": "d46a4475",
   "metadata": {
    "ExecuteTime": {
     "end_time": "2024-06-03T19:06:54.002786Z",
     "start_time": "2024-06-03T19:06:50.029349Z"
    }
   },
   "outputs": [],
   "source": [
    "import numpy             as np\n",
    "import pandas            as pd\n",
    "\n",
    "from   datetime          import datetime\n",
    "from   prophet           import Prophet"
   ]
  },
  {
   "cell_type": "markdown",
   "id": "49ea06b4",
   "metadata": {},
   "source": [
    "# 0.1 - Data"
   ]
  },
  {
   "cell_type": "code",
   "execution_count": 2,
   "id": "7b157bae",
   "metadata": {
    "ExecuteTime": {
     "end_time": "2024-06-03T19:06:54.613047Z",
     "start_time": "2024-06-03T19:06:54.009352Z"
    }
   },
   "outputs": [],
   "source": [
    "dfs = []\n",
    "\n",
    "for i in range(2002, 2019):\n",
    "    file = rf\"C:\\Users\\gfurt\\Ciência de dados\\Séries temporais\\inmet_prophet\\Dados\\INMET_SE_RJ_A601_ECOLOGIA AGRICOLA_01-01-{i}_A_31-12-{i}.csv\"\n",
    "    df = pd.read_csv(file, encoding='ISO-8859-1', delimiter=';', skiprows=8)\n",
    "    dfs.append(df)\n",
    "    \n",
    "df_raw_1 = pd.concat(dfs, ignore_index=True)"
   ]
  },
  {
   "cell_type": "code",
   "execution_count": 3,
   "id": "e6982cfe",
   "metadata": {
    "ExecuteTime": {
     "end_time": "2024-06-03T19:06:54.788136Z",
     "start_time": "2024-06-03T19:06:54.617240Z"
    }
   },
   "outputs": [],
   "source": [
    "cols = df_raw_1.columns\n",
    "dfs = []\n",
    "\n",
    "for i in range(2019, 2024):\n",
    "    file = rf\"C:\\Users\\gfurt\\Ciência de dados\\Séries temporais\\inmet_prophet\\Dados\\INMET_SE_RJ_A601_SEROPEDICA-ECOLOGIA AGRICOLA_01-01-{i}_A_31-12-{i}.csv\"\n",
    "    df = pd.read_csv(file, encoding='ISO-8859-1', delimiter=';', skiprows=9,\n",
    "                     names=cols)\n",
    "    dfs.append(df)\n",
    "    \n",
    "df_raw_2 = pd.concat(dfs, ignore_index=True)"
   ]
  },
  {
   "cell_type": "code",
   "execution_count": 4,
   "id": "905a6ba5",
   "metadata": {
    "ExecuteTime": {
     "end_time": "2024-06-03T19:06:55.535963Z",
     "start_time": "2024-06-03T19:06:54.794156Z"
    }
   },
   "outputs": [],
   "source": [
    "df_raw_2['HORA (UTC)'] = df_raw_2['HORA (UTC)'].str[:4]\n",
    "df_raw_2['HORA (UTC)'] = df_raw_2['HORA (UTC)'].apply(lambda x: datetime.strptime(x, '%H%M').strftime('%H:%M'))"
   ]
  },
  {
   "cell_type": "code",
   "execution_count": 5,
   "id": "f5a6ce04",
   "metadata": {
    "ExecuteTime": {
     "end_time": "2024-06-03T19:06:55.589916Z",
     "start_time": "2024-06-03T19:06:55.537502Z"
    }
   },
   "outputs": [],
   "source": [
    "# Convertendo a coluna 'DATA (YYYY-MM-DD)' em df_raw_1 para datetime\n",
    "df_raw_1['DATA (YYYY-MM-DD)'] = pd.to_datetime(df_raw_1['DATA (YYYY-MM-DD)'])\n",
    "\n",
    "# Convertendo a coluna 'DATA (YYYY-MM-DD)' em df_raw_2 para datetime\n",
    "df_raw_2['DATA (YYYY-MM-DD)'] = pd.to_datetime(df_raw_2['DATA (YYYY-MM-DD)'])"
   ]
  },
  {
   "cell_type": "code",
   "execution_count": 6,
   "id": "4ac7f0b0",
   "metadata": {
    "ExecuteTime": {
     "end_time": "2024-06-03T19:06:55.617872Z",
     "start_time": "2024-06-03T19:06:55.591993Z"
    }
   },
   "outputs": [],
   "source": [
    "df_raw = pd.concat([df_raw_1, df_raw_2], ignore_index=True)"
   ]
  },
  {
   "cell_type": "markdown",
   "id": "81db0071",
   "metadata": {},
   "source": [
    "# 1.0 - Data description"
   ]
  },
  {
   "cell_type": "code",
   "execution_count": 7,
   "id": "d762fd8e",
   "metadata": {
    "ExecuteTime": {
     "end_time": "2024-06-03T19:06:59.911551Z",
     "start_time": "2024-06-03T19:06:59.819107Z"
    }
   },
   "outputs": [],
   "source": [
    "df1 = df_raw.copy()"
   ]
  },
  {
   "cell_type": "code",
   "execution_count": 11,
   "id": "241120d9",
   "metadata": {
    "ExecuteTime": {
     "end_time": "2024-06-03T19:08:32.189010Z",
     "start_time": "2024-06-03T19:08:32.181111Z"
    }
   },
   "outputs": [
    {
     "data": {
      "text/plain": [
       "(175320, 20)"
      ]
     },
     "execution_count": 11,
     "metadata": {},
     "output_type": "execute_result"
    }
   ],
   "source": [
    "df1.shape"
   ]
  },
  {
   "cell_type": "code",
   "execution_count": 8,
   "id": "68a59bc4",
   "metadata": {
    "ExecuteTime": {
     "end_time": "2024-06-03T19:07:01.949151Z",
     "start_time": "2024-06-03T19:07:01.933317Z"
    }
   },
   "outputs": [
    {
     "data": {
      "text/plain": [
       "DATA (YYYY-MM-DD)                                        datetime64[ns]\n",
       "HORA (UTC)                                                       object\n",
       "PRECIPITAÇÃO TOTAL, HORÁRIO (mm)                                 object\n",
       "PRESSAO ATMOSFERICA AO NIVEL DA ESTACAO, HORARIA (mB)            object\n",
       "PRESSÃO ATMOSFERICA MAX.NA HORA ANT. (AUT) (mB)                  object\n",
       "PRESSÃO ATMOSFERICA MIN. NA HORA ANT. (AUT) (mB)                 object\n",
       "RADIACAO GLOBAL (KJ/m²)                                          object\n",
       "TEMPERATURA DO AR - BULBO SECO, HORARIA (°C)                     object\n",
       "TEMPERATURA DO PONTO DE ORVALHO (°C)                             object\n",
       "TEMPERATURA MÁXIMA NA HORA ANT. (AUT) (°C)                       object\n",
       "TEMPERATURA MÍNIMA NA HORA ANT. (AUT) (°C)                       object\n",
       "TEMPERATURA ORVALHO MAX. NA HORA ANT. (AUT) (°C)                 object\n",
       "TEMPERATURA ORVALHO MIN. NA HORA ANT. (AUT) (°C)                 object\n",
       "UMIDADE REL. MAX. NA HORA ANT. (AUT) (%)                        float64\n",
       "UMIDADE REL. MIN. NA HORA ANT. (AUT) (%)                        float64\n",
       "UMIDADE RELATIVA DO AR, HORARIA (%)                             float64\n",
       "VENTO, DIREÇÃO HORARIA (gr) (° (gr))                            float64\n",
       "VENTO, RAJADA MAXIMA (m/s)                                       object\n",
       "VENTO, VELOCIDADE HORARIA (m/s)                                  object\n",
       "Unnamed: 19                                                     float64\n",
       "dtype: object"
      ]
     },
     "execution_count": 8,
     "metadata": {},
     "output_type": "execute_result"
    }
   ],
   "source": [
    "df1.dtypes"
   ]
  },
  {
   "cell_type": "code",
   "execution_count": 9,
   "id": "0af2a09e",
   "metadata": {
    "ExecuteTime": {
     "end_time": "2024-06-03T19:07:16.845371Z",
     "start_time": "2024-06-03T19:07:16.734232Z"
    }
   },
   "outputs": [
    {
     "data": {
      "text/plain": [
       "DATA (YYYY-MM-DD)                                             0\n",
       "HORA (UTC)                                                    0\n",
       "PRECIPITAÇÃO TOTAL, HORÁRIO (mm)                           2285\n",
       "PRESSAO ATMOSFERICA AO NIVEL DA ESTACAO, HORARIA (mB)      2186\n",
       "PRESSÃO ATMOSFERICA MAX.NA HORA ANT. (AUT) (mB)            2190\n",
       "PRESSÃO ATMOSFERICA MIN. NA HORA ANT. (AUT) (mB)           2190\n",
       "RADIACAO GLOBAL (KJ/m²)                                   16736\n",
       "TEMPERATURA DO AR - BULBO SECO, HORARIA (°C)                952\n",
       "TEMPERATURA DO PONTO DE ORVALHO (°C)                        952\n",
       "TEMPERATURA MÁXIMA NA HORA ANT. (AUT) (°C)                  958\n",
       "TEMPERATURA MÍNIMA NA HORA ANT. (AUT) (°C)                  957\n",
       "TEMPERATURA ORVALHO MAX. NA HORA ANT. (AUT) (°C)            957\n",
       "TEMPERATURA ORVALHO MIN. NA HORA ANT. (AUT) (°C)            957\n",
       "UMIDADE REL. MAX. NA HORA ANT. (AUT) (%)                    957\n",
       "UMIDADE REL. MIN. NA HORA ANT. (AUT) (%)                    957\n",
       "UMIDADE RELATIVA DO AR, HORARIA (%)                         952\n",
       "VENTO, DIREÇÃO HORARIA (gr) (° (gr))                        949\n",
       "VENTO, RAJADA MAXIMA (m/s)                                  954\n",
       "VENTO, VELOCIDADE HORARIA (m/s)                             949\n",
       "Unnamed: 19                                              175320\n",
       "dtype: int64"
      ]
     },
     "execution_count": 9,
     "metadata": {},
     "output_type": "execute_result"
    }
   ],
   "source": [
    "df1.isnull().sum()"
   ]
  },
  {
   "cell_type": "code",
   "execution_count": 16,
   "id": "e177e359",
   "metadata": {
    "ExecuteTime": {
     "end_time": "2024-06-03T19:44:33.947202Z",
     "start_time": "2024-06-03T19:44:33.914695Z"
    }
   },
   "outputs": [
    {
     "data": {
      "text/plain": [
       "<DatetimeArray>\n",
       "['2019-01-13 00:00:00', '2019-06-18 00:00:00', '2019-07-17 00:00:00',\n",
       " '2019-11-22 00:00:00', '2019-11-23 00:00:00', '2019-11-24 00:00:00',\n",
       " '2019-11-25 00:00:00', '2019-11-26 00:00:00', '2019-11-27 00:00:00',\n",
       " '2019-11-28 00:00:00', '2019-11-29 00:00:00', '2019-11-30 00:00:00',\n",
       " '2019-12-01 00:00:00', '2019-12-02 00:00:00', '2019-12-03 00:00:00',\n",
       " '2019-12-04 00:00:00', '2019-12-05 00:00:00', '2019-12-06 00:00:00',\n",
       " '2019-12-07 00:00:00', '2019-12-08 00:00:00', '2019-12-09 00:00:00',\n",
       " '2019-12-10 00:00:00', '2019-12-11 00:00:00', '2019-12-12 00:00:00',\n",
       " '2019-12-13 00:00:00', '2019-12-14 00:00:00', '2019-12-15 00:00:00',\n",
       " '2019-12-16 00:00:00', '2019-12-17 00:00:00', '2019-12-18 00:00:00',\n",
       " '2019-12-19 00:00:00', '2019-12-20 00:00:00', '2019-12-21 00:00:00',\n",
       " '2019-12-22 00:00:00', '2019-12-23 00:00:00', '2019-12-24 00:00:00',\n",
       " '2019-12-25 00:00:00', '2019-12-26 00:00:00', '2019-12-27 00:00:00',\n",
       " '2019-12-28 00:00:00', '2019-12-29 00:00:00', '2019-12-30 00:00:00',\n",
       " '2019-12-31 00:00:00', '2021-07-31 00:00:00', '2022-03-25 00:00:00',\n",
       " '2022-07-15 00:00:00']\n",
       "Length: 46, dtype: datetime64[ns]"
      ]
     },
     "execution_count": 16,
     "metadata": {},
     "output_type": "execute_result"
    }
   ],
   "source": [
    "df_aux = df1[df1['TEMPERATURA DO AR - BULBO SECO, HORARIA (°C)'].isnull()]\n",
    "df_aux = df_aux[['DATA (YYYY-MM-DD)', 'HORA (UTC)']]\n",
    "df_aux['DATA (YYYY-MM-DD)'].unique()"
   ]
  },
  {
   "cell_type": "code",
   "execution_count": 29,
   "id": "d68436ea",
   "metadata": {
    "ExecuteTime": {
     "end_time": "2024-06-03T19:49:33.659254Z",
     "start_time": "2024-06-03T19:49:33.644873Z"
    }
   },
   "outputs": [
    {
     "data": {
      "text/html": [
       "<div>\n",
       "<style scoped>\n",
       "    .dataframe tbody tr th:only-of-type {\n",
       "        vertical-align: middle;\n",
       "    }\n",
       "\n",
       "    .dataframe tbody tr th {\n",
       "        vertical-align: top;\n",
       "    }\n",
       "\n",
       "    .dataframe thead th {\n",
       "        text-align: right;\n",
       "    }\n",
       "</style>\n",
       "<table border=\"1\" class=\"dataframe\">\n",
       "  <thead>\n",
       "    <tr style=\"text-align: right;\">\n",
       "      <th></th>\n",
       "      <th>DATA (YYYY-MM-DD)</th>\n",
       "      <th>HORA (UTC)</th>\n",
       "    </tr>\n",
       "  </thead>\n",
       "  <tbody>\n",
       "    <tr>\n",
       "      <th>148416</th>\n",
       "      <td>2019-12-07</td>\n",
       "      <td>00:00</td>\n",
       "    </tr>\n",
       "    <tr>\n",
       "      <th>148417</th>\n",
       "      <td>2019-12-07</td>\n",
       "      <td>01:00</td>\n",
       "    </tr>\n",
       "    <tr>\n",
       "      <th>148418</th>\n",
       "      <td>2019-12-07</td>\n",
       "      <td>02:00</td>\n",
       "    </tr>\n",
       "    <tr>\n",
       "      <th>148419</th>\n",
       "      <td>2019-12-07</td>\n",
       "      <td>03:00</td>\n",
       "    </tr>\n",
       "    <tr>\n",
       "      <th>148420</th>\n",
       "      <td>2019-12-07</td>\n",
       "      <td>04:00</td>\n",
       "    </tr>\n",
       "    <tr>\n",
       "      <th>148421</th>\n",
       "      <td>2019-12-07</td>\n",
       "      <td>05:00</td>\n",
       "    </tr>\n",
       "    <tr>\n",
       "      <th>148422</th>\n",
       "      <td>2019-12-07</td>\n",
       "      <td>06:00</td>\n",
       "    </tr>\n",
       "    <tr>\n",
       "      <th>148423</th>\n",
       "      <td>2019-12-07</td>\n",
       "      <td>07:00</td>\n",
       "    </tr>\n",
       "    <tr>\n",
       "      <th>148424</th>\n",
       "      <td>2019-12-07</td>\n",
       "      <td>08:00</td>\n",
       "    </tr>\n",
       "    <tr>\n",
       "      <th>148425</th>\n",
       "      <td>2019-12-07</td>\n",
       "      <td>09:00</td>\n",
       "    </tr>\n",
       "    <tr>\n",
       "      <th>148426</th>\n",
       "      <td>2019-12-07</td>\n",
       "      <td>10:00</td>\n",
       "    </tr>\n",
       "    <tr>\n",
       "      <th>148427</th>\n",
       "      <td>2019-12-07</td>\n",
       "      <td>11:00</td>\n",
       "    </tr>\n",
       "    <tr>\n",
       "      <th>148428</th>\n",
       "      <td>2019-12-07</td>\n",
       "      <td>12:00</td>\n",
       "    </tr>\n",
       "    <tr>\n",
       "      <th>148429</th>\n",
       "      <td>2019-12-07</td>\n",
       "      <td>13:00</td>\n",
       "    </tr>\n",
       "    <tr>\n",
       "      <th>148430</th>\n",
       "      <td>2019-12-07</td>\n",
       "      <td>14:00</td>\n",
       "    </tr>\n",
       "    <tr>\n",
       "      <th>148431</th>\n",
       "      <td>2019-12-07</td>\n",
       "      <td>15:00</td>\n",
       "    </tr>\n",
       "    <tr>\n",
       "      <th>148432</th>\n",
       "      <td>2019-12-07</td>\n",
       "      <td>16:00</td>\n",
       "    </tr>\n",
       "    <tr>\n",
       "      <th>148433</th>\n",
       "      <td>2019-12-07</td>\n",
       "      <td>17:00</td>\n",
       "    </tr>\n",
       "    <tr>\n",
       "      <th>148434</th>\n",
       "      <td>2019-12-07</td>\n",
       "      <td>18:00</td>\n",
       "    </tr>\n",
       "    <tr>\n",
       "      <th>148435</th>\n",
       "      <td>2019-12-07</td>\n",
       "      <td>19:00</td>\n",
       "    </tr>\n",
       "    <tr>\n",
       "      <th>148436</th>\n",
       "      <td>2019-12-07</td>\n",
       "      <td>20:00</td>\n",
       "    </tr>\n",
       "    <tr>\n",
       "      <th>148437</th>\n",
       "      <td>2019-12-07</td>\n",
       "      <td>21:00</td>\n",
       "    </tr>\n",
       "    <tr>\n",
       "      <th>148438</th>\n",
       "      <td>2019-12-07</td>\n",
       "      <td>22:00</td>\n",
       "    </tr>\n",
       "    <tr>\n",
       "      <th>148439</th>\n",
       "      <td>2019-12-07</td>\n",
       "      <td>23:00</td>\n",
       "    </tr>\n",
       "  </tbody>\n",
       "</table>\n",
       "</div>"
      ],
      "text/plain": [
       "       DATA (YYYY-MM-DD) HORA (UTC)\n",
       "148416        2019-12-07      00:00\n",
       "148417        2019-12-07      01:00\n",
       "148418        2019-12-07      02:00\n",
       "148419        2019-12-07      03:00\n",
       "148420        2019-12-07      04:00\n",
       "148421        2019-12-07      05:00\n",
       "148422        2019-12-07      06:00\n",
       "148423        2019-12-07      07:00\n",
       "148424        2019-12-07      08:00\n",
       "148425        2019-12-07      09:00\n",
       "148426        2019-12-07      10:00\n",
       "148427        2019-12-07      11:00\n",
       "148428        2019-12-07      12:00\n",
       "148429        2019-12-07      13:00\n",
       "148430        2019-12-07      14:00\n",
       "148431        2019-12-07      15:00\n",
       "148432        2019-12-07      16:00\n",
       "148433        2019-12-07      17:00\n",
       "148434        2019-12-07      18:00\n",
       "148435        2019-12-07      19:00\n",
       "148436        2019-12-07      20:00\n",
       "148437        2019-12-07      21:00\n",
       "148438        2019-12-07      22:00\n",
       "148439        2019-12-07      23:00"
      ]
     },
     "execution_count": 29,
     "metadata": {},
     "output_type": "execute_result"
    }
   ],
   "source": [
    "df_aux[df_aux['DATA (YYYY-MM-DD)'] == '2019-12-07 00:00:00']"
   ]
  },
  {
   "cell_type": "markdown",
   "id": "9d808565",
   "metadata": {},
   "source": [
    "# 2.0 - Feature engineering"
   ]
  },
  {
   "cell_type": "code",
   "execution_count": 10,
   "id": "902129d2",
   "metadata": {},
   "outputs": [],
   "source": [
    "# Convertendo a coluna 'Data' para datetime\n",
    "df1['DATA (YYYY-MM-DD)'] = pd.to_datetime(df_raw['DATA (YYYY-MM-DD)'])\n",
    "\n",
    "# Convertendo a coluna 'Hora' para timedelta, considerando que o formato seja '00:00'\n",
    "df_raw['HORA (UTC)'] = pd.to_timedelta(df_raw['HORA (UTC)'] + ':00')\n",
    "\n",
    "# Criando a coluna 'Data_Hora' combinando 'Data' e 'Hora'\n",
    "df_raw['Data_Hora'] = df_raw['DATA (YYYY-MM-DD)'] + df_raw['HORA (UTC)']"
   ]
  },
  {
   "cell_type": "code",
   "execution_count": 11,
   "id": "b5ac5b05",
   "metadata": {},
   "outputs": [
    {
     "data": {
      "text/html": [
       "<div>\n",
       "<style scoped>\n",
       "    .dataframe tbody tr th:only-of-type {\n",
       "        vertical-align: middle;\n",
       "    }\n",
       "\n",
       "    .dataframe tbody tr th {\n",
       "        vertical-align: top;\n",
       "    }\n",
       "\n",
       "    .dataframe thead th {\n",
       "        text-align: right;\n",
       "    }\n",
       "</style>\n",
       "<table border=\"1\" class=\"dataframe\">\n",
       "  <thead>\n",
       "    <tr style=\"text-align: right;\">\n",
       "      <th></th>\n",
       "      <th>ds</th>\n",
       "      <th>y</th>\n",
       "    </tr>\n",
       "  </thead>\n",
       "  <tbody>\n",
       "    <tr>\n",
       "      <th>0</th>\n",
       "      <td>2002-01-01 00:00:00</td>\n",
       "      <td>24.7</td>\n",
       "    </tr>\n",
       "    <tr>\n",
       "      <th>1</th>\n",
       "      <td>2002-01-01 01:00:00</td>\n",
       "      <td>24.4</td>\n",
       "    </tr>\n",
       "    <tr>\n",
       "      <th>2</th>\n",
       "      <td>2002-01-01 02:00:00</td>\n",
       "      <td>23.0</td>\n",
       "    </tr>\n",
       "    <tr>\n",
       "      <th>3</th>\n",
       "      <td>2002-01-01 03:00:00</td>\n",
       "      <td>22.6</td>\n",
       "    </tr>\n",
       "    <tr>\n",
       "      <th>4</th>\n",
       "      <td>2002-01-01 04:00:00</td>\n",
       "      <td>22.2</td>\n",
       "    </tr>\n",
       "  </tbody>\n",
       "</table>\n",
       "</div>"
      ],
      "text/plain": [
       "                   ds     y\n",
       "0 2002-01-01 00:00:00  24.7\n",
       "1 2002-01-01 01:00:00  24.4\n",
       "2 2002-01-01 02:00:00  23.0\n",
       "3 2002-01-01 03:00:00  22.6\n",
       "4 2002-01-01 04:00:00  22.2"
      ]
     },
     "execution_count": 11,
     "metadata": {},
     "output_type": "execute_result"
    }
   ],
   "source": [
    "df = df_raw[['Data_Hora', 'TEMPERATURA DO AR - BULBO SECO, HORARIA (°C)']]\n",
    "df = df.rename(columns={'Data_Hora': 'ds', 'TEMPERATURA DO AR - BULBO SECO, HORARIA (°C)':'y'})\n",
    "df['y'] = df['y'].str.replace(',', '.').astype(float)\n",
    "df.head()"
   ]
  },
  {
   "cell_type": "markdown",
   "id": "08be0a58",
   "metadata": {},
   "source": [
    "# 3.0 - Data Cleaning"
   ]
  },
  {
   "cell_type": "code",
   "execution_count": null,
   "id": "6f5b9c3e",
   "metadata": {},
   "outputs": [],
   "source": []
  },
  {
   "cell_type": "markdown",
   "id": "1270be6d",
   "metadata": {},
   "source": [
    "# 4.0 - Exploratory Data Analysis"
   ]
  },
  {
   "cell_type": "code",
   "execution_count": null,
   "id": "23534d6d",
   "metadata": {},
   "outputs": [],
   "source": []
  },
  {
   "cell_type": "markdown",
   "id": "d4642192",
   "metadata": {},
   "source": [
    "# 5.0 - Feature Selection"
   ]
  },
  {
   "cell_type": "code",
   "execution_count": null,
   "id": "fa5ff8b9",
   "metadata": {},
   "outputs": [],
   "source": []
  },
  {
   "cell_type": "markdown",
   "id": "5543b2f9",
   "metadata": {},
   "source": [
    "# 6.0 - Machine Learning"
   ]
  },
  {
   "cell_type": "code",
   "execution_count": null,
   "id": "9c27c3a2",
   "metadata": {},
   "outputs": [],
   "source": []
  },
  {
   "cell_type": "markdown",
   "id": "6cc34796",
   "metadata": {},
   "source": [
    "# 7.0 - Hyperparameter Fine Tunnig"
   ]
  },
  {
   "cell_type": "code",
   "execution_count": null,
   "id": "38153ab9",
   "metadata": {},
   "outputs": [],
   "source": []
  },
  {
   "cell_type": "markdown",
   "id": "a78079e6",
   "metadata": {},
   "source": [
    "# 8.0 - Model Evaluation"
   ]
  },
  {
   "cell_type": "code",
   "execution_count": null,
   "id": "42f8291a",
   "metadata": {},
   "outputs": [],
   "source": []
  }
 ],
 "metadata": {
  "kernelspec": {
   "display_name": "Python 3 (ipykernel)",
   "language": "python",
   "name": "python3"
  },
  "language_info": {
   "codemirror_mode": {
    "name": "ipython",
    "version": 3
   },
   "file_extension": ".py",
   "mimetype": "text/x-python",
   "name": "python",
   "nbconvert_exporter": "python",
   "pygments_lexer": "ipython3",
   "version": "3.11.5"
  }
 },
 "nbformat": 4,
 "nbformat_minor": 5
}
